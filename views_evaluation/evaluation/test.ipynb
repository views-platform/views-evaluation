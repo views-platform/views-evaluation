{
 "cells": [
  {
   "cell_type": "code",
   "execution_count": 5,
   "metadata": {},
   "outputs": [],
   "source": [
    "import pandas as pd"
   ]
  },
  {
   "cell_type": "code",
   "execution_count": 6,
   "metadata": {},
   "outputs": [
    {
     "data": {
      "text/html": [
       "<div>\n",
       "<style scoped>\n",
       "    .dataframe tbody tr th:only-of-type {\n",
       "        vertical-align: middle;\n",
       "    }\n",
       "\n",
       "    .dataframe tbody tr th {\n",
       "        vertical-align: top;\n",
       "    }\n",
       "\n",
       "    .dataframe thead th {\n",
       "        text-align: right;\n",
       "    }\n",
       "</style>\n",
       "<table border=\"1\" class=\"dataframe\">\n",
       "  <thead>\n",
       "    <tr style=\"text-align: right;\">\n",
       "      <th></th>\n",
       "      <th></th>\n",
       "      <th>ln_ged_sb_dep</th>\n",
       "    </tr>\n",
       "    <tr>\n",
       "      <th>month</th>\n",
       "      <th>country</th>\n",
       "      <th></th>\n",
       "    </tr>\n",
       "  </thead>\n",
       "  <tbody>\n",
       "    <tr>\n",
       "      <th rowspan=\"2\" valign=\"top\">300</th>\n",
       "      <th>1</th>\n",
       "      <td>0</td>\n",
       "    </tr>\n",
       "    <tr>\n",
       "      <th>2</th>\n",
       "      <td>1</td>\n",
       "    </tr>\n",
       "    <tr>\n",
       "      <th rowspan=\"2\" valign=\"top\">301</th>\n",
       "      <th>1</th>\n",
       "      <td>1</td>\n",
       "    </tr>\n",
       "    <tr>\n",
       "      <th>2</th>\n",
       "      <td>2</td>\n",
       "    </tr>\n",
       "    <tr>\n",
       "      <th rowspan=\"2\" valign=\"top\">302</th>\n",
       "      <th>1</th>\n",
       "      <td>2</td>\n",
       "    </tr>\n",
       "    <tr>\n",
       "      <th>2</th>\n",
       "      <td>3</td>\n",
       "    </tr>\n",
       "  </tbody>\n",
       "</table>\n",
       "</div>"
      ],
      "text/plain": [
       "               ln_ged_sb_dep\n",
       "month country               \n",
       "300   1                    0\n",
       "      2                    1\n",
       "301   1                    1\n",
       "      2                    2\n",
       "302   1                    2\n",
       "      2                    3"
      ]
     },
     "execution_count": 6,
     "metadata": {},
     "output_type": "execute_result"
    }
   ],
   "source": [
    "actual_data = {\n",
    "    \"month\": [300, 300, 301, 301, 302, 302],\n",
    "    \"country\": [1, 2, 1, 2, 1, 2],\n",
    "    \"ln_ged_sb_dep\": [0, 1, 1, 2, 2, 3]\n",
    "}\n",
    "df_actual = pd.DataFrame(actual_data).set_index(['month', 'country'])\n",
    "df_actual"
   ]
  },
  {
   "cell_type": "code",
   "execution_count": 7,
   "metadata": {},
   "outputs": [],
   "source": [
    "df_pred0 = pd.DataFrame({\n",
    "    \"month\": [300, 300, 301, 301],\n",
    "    \"country\": [1, 2, 1, 2],\n",
    "    \"value\": [1, 2, 3, 4]\n",
    "}).set_index(['month', 'country'])\n",
    "\n",
    "df_pred1 = pd.DataFrame({\n",
    "    \"month\": [301, 301, 302, 302],\n",
    "    \"country\": [1, 2, 1, 2],\n",
    "    \"value\": [2, 3, 4, 5]\n",
    "}).set_index(['month', 'country'])"
   ]
  },
  {
   "cell_type": "code",
   "execution_count": 8,
   "metadata": {},
   "outputs": [
    {
     "data": {
      "text/plain": [
       "(               value\n",
       " month country       \n",
       " 300   1            1\n",
       "       2            2\n",
       " 301   1            3\n",
       "       2            4,\n",
       "                value\n",
       " month country       \n",
       " 301   1            2\n",
       "       2            3\n",
       " 302   1            4\n",
       "       2            5)"
      ]
     },
     "execution_count": 8,
     "metadata": {},
     "output_type": "execute_result"
    }
   ],
   "source": [
    "df_pred0, df_pred1"
   ]
  },
  {
   "cell_type": "code",
   "execution_count": 9,
   "metadata": {},
   "outputs": [
    {
     "data": {
      "text/html": [
       "<div>\n",
       "<style scoped>\n",
       "    .dataframe tbody tr th:only-of-type {\n",
       "        vertical-align: middle;\n",
       "    }\n",
       "\n",
       "    .dataframe tbody tr th {\n",
       "        vertical-align: top;\n",
       "    }\n",
       "\n",
       "    .dataframe thead th {\n",
       "        text-align: right;\n",
       "    }\n",
       "</style>\n",
       "<table border=\"1\" class=\"dataframe\">\n",
       "  <thead>\n",
       "    <tr style=\"text-align: right;\">\n",
       "      <th></th>\n",
       "      <th></th>\n",
       "      <th>value</th>\n",
       "    </tr>\n",
       "    <tr>\n",
       "      <th>month</th>\n",
       "      <th>country</th>\n",
       "      <th></th>\n",
       "    </tr>\n",
       "  </thead>\n",
       "  <tbody>\n",
       "    <tr>\n",
       "      <th rowspan=\"2\" valign=\"top\">300</th>\n",
       "      <th>1</th>\n",
       "      <td>1</td>\n",
       "    </tr>\n",
       "    <tr>\n",
       "      <th>2</th>\n",
       "      <td>2</td>\n",
       "    </tr>\n",
       "    <tr>\n",
       "      <th rowspan=\"4\" valign=\"top\">301</th>\n",
       "      <th>1</th>\n",
       "      <td>3</td>\n",
       "    </tr>\n",
       "    <tr>\n",
       "      <th>2</th>\n",
       "      <td>4</td>\n",
       "    </tr>\n",
       "    <tr>\n",
       "      <th>1</th>\n",
       "      <td>2</td>\n",
       "    </tr>\n",
       "    <tr>\n",
       "      <th>2</th>\n",
       "      <td>3</td>\n",
       "    </tr>\n",
       "    <tr>\n",
       "      <th rowspan=\"2\" valign=\"top\">302</th>\n",
       "      <th>1</th>\n",
       "      <td>4</td>\n",
       "    </tr>\n",
       "    <tr>\n",
       "      <th>2</th>\n",
       "      <td>5</td>\n",
       "    </tr>\n",
       "  </tbody>\n",
       "</table>\n",
       "</div>"
      ],
      "text/plain": [
       "               value\n",
       "month country       \n",
       "300   1            1\n",
       "      2            2\n",
       "301   1            3\n",
       "      2            4\n",
       "      1            2\n",
       "      2            3\n",
       "302   1            4\n",
       "      2            5"
      ]
     },
     "execution_count": 9,
     "metadata": {},
     "output_type": "execute_result"
    }
   ],
   "source": [
    "pd.concat([df_pred0, df_pred1])"
   ]
  },
  {
   "cell_type": "code",
   "execution_count": 10,
   "metadata": {},
   "outputs": [],
   "source": [
    "from metrics import MetricsManager\n",
    "metrics_list = ['RMSLE', 'CRPS', 'ABC']\n",
    "metrics_manager = MetricsManager(metrics_list)"
   ]
  },
  {
   "cell_type": "code",
   "execution_count": 11,
   "metadata": {},
   "outputs": [
    {
     "name": "stderr",
     "output_type": "stream",
     "text": [
      "Metric ABC is not a default metric, skipping...\n"
     ]
    },
    {
     "data": {
      "text/html": [
       "<div>\n",
       "<style scoped>\n",
       "    .dataframe tbody tr th:only-of-type {\n",
       "        vertical-align: middle;\n",
       "    }\n",
       "\n",
       "    .dataframe tbody tr th {\n",
       "        vertical-align: top;\n",
       "    }\n",
       "\n",
       "    .dataframe thead th {\n",
       "        text-align: right;\n",
       "    }\n",
       "</style>\n",
       "<table border=\"1\" class=\"dataframe\">\n",
       "  <thead>\n",
       "    <tr style=\"text-align: right;\">\n",
       "      <th></th>\n",
       "      <th>RMSLE</th>\n",
       "      <th>CRPS</th>\n",
       "    </tr>\n",
       "  </thead>\n",
       "  <tbody>\n",
       "    <tr>\n",
       "      <th>step01</th>\n",
       "      <td>1.0</td>\n",
       "      <td>1.0</td>\n",
       "    </tr>\n",
       "    <tr>\n",
       "      <th>step02</th>\n",
       "      <td>2.0</td>\n",
       "      <td>2.0</td>\n",
       "    </tr>\n",
       "  </tbody>\n",
       "</table>\n",
       "</div>"
      ],
      "text/plain": [
       "        RMSLE  CRPS\n",
       "step01    1.0   1.0\n",
       "step02    2.0   2.0"
      ]
     },
     "execution_count": 11,
     "metadata": {},
     "output_type": "execute_result"
    }
   ],
   "source": [
    "metrics_manager.step_wise_evaluation(df_actual, [df_pred0, df_pred1], 'ln_ged_sb_dep', [1, 2])[1]"
   ]
  },
  {
   "cell_type": "code",
   "execution_count": 12,
   "metadata": {},
   "outputs": [
    {
     "name": "stderr",
     "output_type": "stream",
     "text": [
      "Metric ABC is not a default metric, skipping...\n"
     ]
    },
    {
     "data": {
      "text/plain": [
       "{'ts00': EvaluationMetrics(RMSLE=1.5811388300841898, CRPS=1.5, AP=None, Brier=None, Jeffreys=None, Coverage=None, EMD=None, SD=None, pEMDiv=None, Pearson=None, Variogram=None),\n",
       " 'ts01': EvaluationMetrics(RMSLE=1.5811388300841898, CRPS=1.5, AP=None, Brier=None, Jeffreys=None, Coverage=None, EMD=None, SD=None, pEMDiv=None, Pearson=None, Variogram=None)}"
      ]
     },
     "execution_count": 12,
     "metadata": {},
     "output_type": "execute_result"
    }
   ],
   "source": [
    "metrics_manager.time_series_wise_evaluation(df_actual, [df_pred0, df_pred1], 'ln_ged_sb_dep')[0]"
   ]
  },
  {
   "cell_type": "code",
   "execution_count": 13,
   "metadata": {},
   "outputs": [
    {
     "name": "stderr",
     "output_type": "stream",
     "text": [
      "Metric ABC is not a default metric, skipping...\n"
     ]
    },
    {
     "data": {
      "text/plain": [
       "{'month300': EvaluationMetrics(RMSLE=1.0, CRPS=1.0, AP=None, Brier=None, Jeffreys=None, Coverage=None, EMD=None, SD=None, pEMDiv=None, Pearson=None, Variogram=None),\n",
       " 'month301': EvaluationMetrics(RMSLE=1.5811388300841898, CRPS=1.5, AP=None, Brier=None, Jeffreys=None, Coverage=None, EMD=None, SD=None, pEMDiv=None, Pearson=None, Variogram=None),\n",
       " 'month302': EvaluationMetrics(RMSLE=2.0, CRPS=2.0, AP=None, Brier=None, Jeffreys=None, Coverage=None, EMD=None, SD=None, pEMDiv=None, Pearson=None, Variogram=None)}"
      ]
     },
     "execution_count": 13,
     "metadata": {},
     "output_type": "execute_result"
    }
   ],
   "source": [
    "metrics_manager.month_wise_evaluation(df_actual, [df_pred0, df_pred1], 'ln_ged_sb_dep')[0]"
   ]
  },
  {
   "cell_type": "code",
   "execution_count": 35,
   "metadata": {},
   "outputs": [],
   "source": [
    "from statistics import mean\n",
    "def calculate_mean_evaluation_metrics(evaluation_dict) -> dict:\n",
    "    \"\"\"\n",
    "    Calculate the mean evaluation metrics for a dictionary of evaluation metrics.\n",
    "\n",
    "    Args:\n",
    "        evaluation_dict (Dict[str, EvaluationMetrics]): A dictionary of evaluation metrics,\n",
    "            where the keys are time steps, months, or time series, and values are `EvaluationMetrics` instances.\n",
    "\n",
    "    Returns:\n",
    "        dict: A dictionary of mean evaluation metrics for the input dictionary.\n",
    "    \"\"\"\n",
    "    mean_dict = {}\n",
    "    first_item = next(iter(evaluation_dict.values()))\n",
    "    metric_names = vars(first_item).keys()\n",
    "    \n",
    "    # Compute the mean for each metric, skipping metrics with None values\n",
    "    for key in metric_names:\n",
    "        valid_values = [value for value in (vars(item).get(key) for item in evaluation_dict.values()) if value is not None]\n",
    "        if valid_values: \n",
    "            mean_dict[key] = mean(valid_values)\n",
    "\n",
    "    return mean_dict"
   ]
  },
  {
   "cell_type": "code",
   "execution_count": 36,
   "metadata": {},
   "outputs": [
    {
     "name": "stderr",
     "output_type": "stream",
     "text": [
      "Metric ABC is not a default metric, skipping...\n"
     ]
    },
    {
     "data": {
      "text/plain": [
       "{'step01': EvaluationMetrics(RMSLE=1.0, CRPS=1.0, AP=None, Brier=None, Jeffreys=None, Coverage=None, EMD=None, SD=None, pEMDiv=None, Pearson=None, Variogram=None),\n",
       " 'step02': EvaluationMetrics(RMSLE=2.0, CRPS=2.0, AP=None, Brier=None, Jeffreys=None, Coverage=None, EMD=None, SD=None, pEMDiv=None, Pearson=None, Variogram=None)}"
      ]
     },
     "execution_count": 36,
     "metadata": {},
     "output_type": "execute_result"
    }
   ],
   "source": [
    "s = metrics_manager.step_wise_evaluation(df_actual, [df_pred0, df_pred1], 'ln_ged_sb_dep', [1, 2])[0]\n",
    "s"
   ]
  },
  {
   "cell_type": "code",
   "execution_count": 39,
   "metadata": {},
   "outputs": [
    {
     "data": {
      "text/plain": [
       "{'RMSLE': 1.5, 'CRPS': 1.5}"
      ]
     },
     "execution_count": 39,
     "metadata": {},
     "output_type": "execute_result"
    }
   ],
   "source": [
    "calculate_mean_evaluation_metrics(s)"
   ]
  }
 ],
 "metadata": {
  "kernelspec": {
   "display_name": "views_stepshifter",
   "language": "python",
   "name": "python3"
  },
  "language_info": {
   "codemirror_mode": {
    "name": "ipython",
    "version": 3
   },
   "file_extension": ".py",
   "mimetype": "text/x-python",
   "name": "python",
   "nbconvert_exporter": "python",
   "pygments_lexer": "ipython3",
   "version": "3.11.10"
  }
 },
 "nbformat": 4,
 "nbformat_minor": 2
}
